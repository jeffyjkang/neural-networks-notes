{
 "cells": [
  {
   "cell_type": "code",
   "execution_count": 11,
   "id": "b73c2c32-b424-44f8-8a6e-b64172edf730",
   "metadata": {},
   "outputs": [],
   "source": [
    "import tensorflow as tf\n",
    "import numpy as np\n",
    "from tensorflow.keras.constraints import max_norm\n",
    "from tensorflow.keras import layers, regularizers\n",
    "from tensorflow.keras.models import Sequential\n",
    "from tensorflow.keras.layers import Dense\n",
    "from tensorflow.keras.callbacks import ModelCheckpoint"
   ]
  },
  {
   "cell_type": "code",
   "execution_count": 4,
   "id": "a3903489-2de5-4792-9d80-1f1671ed5ca4",
   "metadata": {},
   "outputs": [
    {
     "name": "stdout",
     "output_type": "stream",
     "text": [
      "Epoch 1/10\n",
      "5/5 [==============================] - 0s 995us/step - loss: 22106432895713280.0000\n",
      "Epoch 2/10\n",
      "5/5 [==============================] - 0s 941us/step - loss: 27144811369186404581344156105834496.0000\n",
      "Epoch 3/10\n",
      "5/5 [==============================] - 0s 870us/step - loss: inf\n",
      "Epoch 4/10\n",
      "5/5 [==============================] - 0s 804us/step - loss: inf\n"
     ]
    }
   ],
   "source": [
    "callback = tf.keras.callbacks.EarlyStopping(monitor='loss', patience=3)\n",
    "# callback will stop the training when there is no improvement in the validation loss for three consecutive epochs\n",
    "model = tf.keras.models.Sequential([tf.keras.layers.Dense(10)])\n",
    "model.compile(tf.keras.optimizers.SGD(), loss='mse')\n",
    "# create some data, X: sequence from 0 to 99\n",
    "X = np.arange(100).reshape(5, 20)\n",
    "# y: and array of zeroes\n",
    "y = np.zeros(5)\n",
    "# model this data using the earlystopping cb\n",
    "history = model.fit(X,y,epochs=10,batch_size=1,callbacks=[callback])\n"
   ]
  },
  {
   "cell_type": "code",
   "execution_count": 5,
   "id": "d57970c2-1dd7-45a5-a363-8e7048dc6139",
   "metadata": {},
   "outputs": [
    {
     "name": "stdout",
     "output_type": "stream",
     "text": [
      "The input data: [[0. 1.]\n",
      " [2. 3.]\n",
      " [4. 5.]\n",
      " [6. 7.]\n",
      " [8. 9.]]\n",
      "The output after applying a dropout: tf.Tensor(\n",
      "[[ 0.    1.25]\n",
      " [ 2.5   3.75]\n",
      " [ 0.    6.25]\n",
      " [ 7.5   8.75]\n",
      " [10.   11.25]], shape=(5, 2), dtype=float32)\n"
     ]
    }
   ],
   "source": [
    "# example: keras regularization layers / dropout layer\n",
    "tf.random.set_seed(42)\n",
    "# drop 0.2 of the inputs (random)\n",
    "layer = tf.keras.layers.Dropout(0.2, input_shape=(2,))\n",
    "data = np.arange(10).reshape(5,2).astype(np.float32)\n",
    "print('The input data:',data)\n",
    "outputs = layer(data, training=True)\n",
    "print('The output after applying a dropout:',outputs)"
   ]
  },
  {
   "cell_type": "code",
   "execution_count": 8,
   "id": "73ed926a-c5bf-4547-8d26-ed2a654be386",
   "metadata": {},
   "outputs": [],
   "source": [
    "# weight constraint example\n",
    "\n",
    "# kernel_constraint argument is for the main weights\n",
    "model.add(layers.Dense(64, kernel_constraint=max_norm(2.)))\n",
    "\n",
    "# weight decay example\n",
    "layer = layers.Dense(units=64, kernel_regularizer=regularizers.l1_l2(l1=1e-5,l2=1e-4))"
   ]
  },
  {
   "cell_type": "code",
   "execution_count": 10,
   "id": "dffee2ae-5dc7-40d1-83e1-ea48b1aad20b",
   "metadata": {},
   "outputs": [],
   "source": [
    "# define the keras model\n",
    "model = Sequential()\n",
    "model.add(Dense(12, input_dim=8, activation='relu'))\n",
    "model.add(Dense(8, activation='relu'))\n",
    "model.add(Dense(1, activation='sigmoid'))\n",
    "\n",
    "# compile keras model\n",
    "model.compile(loss='binary_crossentropy', optimizer='adam', metrics=['accuracy'])"
   ]
  },
  {
   "cell_type": "code",
   "execution_count": 12,
   "id": "cf9e82f9-0607-4eb8-9912-95f358a0f0b9",
   "metadata": {},
   "outputs": [],
   "source": [
    "# create checkpoin options\n",
    "cpoint = ModelCheckpoint('weights_best.h5', verbose=1, save_weights_only=True)"
   ]
  },
  {
   "cell_type": "code",
   "execution_count": 13,
   "id": "69163932-b270-44aa-947f-ff4a0f414169",
   "metadata": {},
   "outputs": [],
   "source": [
    "# set url for data location\n",
    "url = 'https://raw.githubusercontent.com/jbrownlee/Datasets/master/pima-indians-diabetes.data.csv'\n",
    "# load dataset\n",
    "dataset = np.loadtxt(url, delimiter=',')"
   ]
  },
  {
   "cell_type": "code",
   "execution_count": 14,
   "id": "24652ca8-500a-413c-8ce0-ab5cbc93554a",
   "metadata": {},
   "outputs": [
    {
     "name": "stdout",
     "output_type": "stream",
     "text": [
      "\n",
      "Epoch 00001: saving model to weights_best.h5\n",
      "\n",
      "Epoch 00002: saving model to weights_best.h5\n",
      "\n",
      "Epoch 00003: saving model to weights_best.h5\n",
      "\n",
      "Epoch 00004: saving model to weights_best.h5\n",
      "\n",
      "Epoch 00005: saving model to weights_best.h5\n"
     ]
    },
    {
     "data": {
      "text/plain": [
       "<keras.callbacks.History at 0x7f7f789e0970>"
      ]
     },
     "execution_count": 14,
     "metadata": {},
     "output_type": "execute_result"
    }
   ],
   "source": [
    "# split into input (X) and output (y) variables\n",
    "# (8 input cols, 1 target col)\n",
    "X = dataset[:,0:8]\n",
    "y = dataset[:,8]\n",
    "\n",
    "# fit the keras model on the dataset\n",
    "# (remove the verbose=0 argument to see the output)\n",
    "model.fit(X, y, epochs=5, batch_size=10, verbose=0, callbacks=[cpoint])"
   ]
  },
  {
   "cell_type": "code",
   "execution_count": 15,
   "id": "3a9fcb0f-4706-4750-bdb0-277d00e6139c",
   "metadata": {},
   "outputs": [
    {
     "name": "stdout",
     "output_type": "stream",
     "text": [
      "Model: \"sequential_2\"\n",
      "_________________________________________________________________\n",
      " Layer (type)                Output Shape              Param #   \n",
      "=================================================================\n",
      " dense_4 (Dense)             (None, 12)                108       \n",
      "                                                                 \n",
      " dense_5 (Dense)             (None, 8)                 104       \n",
      "                                                                 \n",
      " dense_6 (Dense)             (None, 1)                 9         \n",
      "                                                                 \n",
      "=================================================================\n",
      "Total params: 221\n",
      "Trainable params: 221\n",
      "Non-trainable params: 0\n",
      "_________________________________________________________________\n"
     ]
    }
   ],
   "source": [
    "# view saved model weights\n",
    "model.load_weights('weights_best.h5')\n",
    "model.summary()"
   ]
  },
  {
   "cell_type": "code",
   "execution_count": null,
   "id": "6c70df18-feb5-408c-bcc1-d458af84f600",
   "metadata": {},
   "outputs": [],
   "source": []
  }
 ],
 "metadata": {
  "kernelspec": {
   "display_name": "Python 3 (ipykernel)",
   "language": "python",
   "name": "python3"
  },
  "language_info": {
   "codemirror_mode": {
    "name": "ipython",
    "version": 3
   },
   "file_extension": ".py",
   "mimetype": "text/x-python",
   "name": "python",
   "nbconvert_exporter": "python",
   "pygments_lexer": "ipython3",
   "version": "3.8.12"
  }
 },
 "nbformat": 4,
 "nbformat_minor": 5
}
