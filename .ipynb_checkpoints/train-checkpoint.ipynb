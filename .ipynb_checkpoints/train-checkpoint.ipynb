{
 "cells": [
  {
   "cell_type": "code",
   "execution_count": 26,
   "id": "d182616b-5090-4836-9efb-56b99d455c38",
   "metadata": {},
   "outputs": [],
   "source": [
    "# !pip install matplotlib\n",
    "# !pip install tensforflow\n",
    "# !pip install keras\n",
    "# !pip install sklearn\n",
    "# !pip install pandas\n",
    "# !pip install seaborn"
   ]
  },
  {
   "cell_type": "code",
   "execution_count": 27,
   "id": "687d71aa-5662-41b5-a9b3-a89674f907eb",
   "metadata": {},
   "outputs": [],
   "source": [
    "import matplotlib.pyplot as plt\n",
    "import numpy as np\n",
    "import tensorflow as tf\n",
    "from keras.models import Sequential\n",
    "from keras.layers import Dense\n",
    "from sklearn.model_selection import train_test_split\n",
    "import pandas as pd\n",
    "import seaborn as sns"
   ]
  },
  {
   "cell_type": "code",
   "execution_count": null,
   "id": "c7f4fb4c-21b2-45e5-9a58-c748984cf42f",
   "metadata": {},
   "outputs": [],
   "source": [
    "x = np.arange(-10, 15, 0.01)\n",
    "y = (x-3)**2\n",
    "plt.plot(x,y)\n",
    "plt.xlabel('x'); plt.ylabel('y')\n",
    "plt.show()sklearn.model_selection"
   ]
  },
  {
   "cell_type": "code",
   "execution_count": 8,
   "id": "be89eede-29ef-408b-8fd7-937a3436a2d8",
   "metadata": {},
   "outputs": [
    {
     "name": "stdout",
     "output_type": "stream",
     "text": [
      "Iteration 1 - x value: 1.2.\n",
      "Iteration 2 - x value: 1.38.\n",
      "Iteration 3 - x value: 1.5419999999999998.\n",
      "Iteration 4 - x value: 1.6877999999999997.\n",
      "Iteration 5 - x value: 1.8190199999999999.\n",
      "Iteration 6 - x value: 1.937118.\n",
      "Iteration 7 - x value: 2.0434061999999997.\n",
      "Iteration 8 - x value: 2.1390655799999996.\n",
      "Iteration 9 - x value: 2.2251590219999997.\n",
      "Iteration 10 - x value: 2.3026431198.\n",
      "Iteration 11 - x value: 2.37237880782.\n",
      "Iteration 12 - x value: 2.4351409270380002.\n",
      "Iteration 13 - x value: 2.4916268343342.\n",
      "Iteration 14 - x value: 2.54246415090078.\n",
      "Iteration 15 - x value: 2.5882177358107024.\n",
      "Iteration 16 - x value: 2.629395962229632.\n",
      "Iteration 17 - x value: 2.6664563660066687.\n",
      "Iteration 18 - x value: 2.6998107294060016.\n",
      "Iteration 19 - x value: 2.7298296564654017.\n",
      "Iteration 20 - x value: 2.7568466908188616.\n",
      "Iteration 21 - x value: 2.7811620217369755.\n",
      "Iteration 22 - x value: 2.8030458195632777.\n",
      "Iteration 23 - x value: 2.82274123760695.\n",
      "Iteration 24 - x value: 2.840467113846255.\n",
      "Iteration 25 - x value: 2.8564204024616293.\n",
      "The local minimum occurs at 2.8564204024616293\n"
     ]
    }
   ],
   "source": [
    "# initialize at x=1\n",
    "cur_x = 1\n",
    "# learning rate (how much to adjust x each iteration)\n",
    "rate = 0.05\n",
    "# max number of iterations\n",
    "max_iters = 25\n",
    "# init iteration counter\n",
    "iters = 0\n",
    "# gradient of the func\n",
    "grad = lambda x: 2*(x-3)\n",
    "\n",
    "while iters < max_iters:\n",
    "    # set the prev x as the current\n",
    "    prev_x = cur_x\n",
    "    # calc the 'new' current x with the gradient\n",
    "    cur_x = prev_x - (rate * grad(prev_x))\n",
    "    # advance the iteration counter\n",
    "    iters = iters+1\n",
    "    print('Iteration {} - x value: {}.'.format(iters,cur_x))\n",
    "    \n",
    "print('The local minimum occurs at', cur_x)"
   ]
  },
  {
   "cell_type": "code",
   "execution_count": 2,
   "id": "0c8fdf36-6171-4b92-a6d1-8ac4c72ffd4e",
   "metadata": {},
   "outputs": [],
   "source": [
    "url = 'https://raw.githubusercontent.com/jbrownlee/Datasets/master/pima-indians-diabetes.data.csv'\n",
    "# load dataset\n",
    "dataset = np.loadtxt(url, delimiter=',')"
   ]
  },
  {
   "cell_type": "code",
   "execution_count": 4,
   "id": "1110dc66-6ab1-4b5c-8416-ec4ebab3cc8f",
   "metadata": {},
   "outputs": [
    {
     "name": "stdout",
     "output_type": "stream",
     "text": [
      "There are 768 samples in this dataset\n"
     ]
    },
    {
     "name": "stderr",
     "output_type": "stream",
     "text": [
      "2021-12-04 22:22:55.337303: I tensorflow/core/platform/cpu_feature_guard.cc:151] This TensorFlow binary is optimized with oneAPI Deep Neural Network Library (oneDNN) to use the following CPU instructions in performance-critical operations:  AVX2 FMA\n",
      "To enable them in other operations, rebuild TensorFlow with the appropriate compiler flags.\n"
     ]
    }
   ],
   "source": [
    "# look at the size of the dataset\n",
    "print('There are {} samples in this dataset'.format(len(dataset)))\n",
    "\n",
    "# split into input (X) and output (y) variables\n",
    "# (8 input columns, 1 target column)\n",
    "X = dataset[:,0:8]\n",
    "y = dataset[:,8]\n",
    "\n",
    "# define layers\n",
    "model = Sequential()\n",
    "model.add(Dense(12, input_dim=8, activation='relu'))\n",
    "model.add(Dense(8, activation='relu'))\n",
    "model.add(Dense(1, activation='sigmoid'))\n",
    "\n",
    "# compile model\n",
    "model.compile(loss='binary_crossentropy', optimizer='adam', metrics=['accuracy'])\n"
   ]
  },
  {
   "cell_type": "code",
   "execution_count": 5,
   "id": "e10edf27-5af2-40bb-9698-660f5319dae8",
   "metadata": {},
   "outputs": [
    {
     "name": "stdout",
     "output_type": "stream",
     "text": [
      "24/24 [==============================] - 0s 648us/step - loss: 0.4319 - accuracy: 0.7943\n",
      "Model accuracy for batch size = 1:  79.42708134651184\n"
     ]
    }
   ],
   "source": [
    "# define batch sizes\n",
    "size = 1\n",
    "# fit the model with different batch sizes\n",
    "model.fit(X,y,epochs=100,batch_size=size,verbose=0)\n",
    "# eval model\n",
    "print('Model accuracy for batch size = {}: '.format(size), model.evaluate(X,y)[1]*100)"
   ]
  },
  {
   "cell_type": "code",
   "execution_count": 10,
   "id": "0bf21cee-99de-41c1-90ea-00959292d178",
   "metadata": {},
   "outputs": [
    {
     "name": "stdout",
     "output_type": "stream",
     "text": [
      "24/24 [==============================] - 0s 606us/step - loss: 0.8347 - accuracy: 0.5677\n",
      "Model accuracy for batch size = 768:  56.77083134651184\n"
     ]
    }
   ],
   "source": [
    "# release global memory state\n",
    "tf.keras.backend.clear_session()\n",
    "\n",
    "# define layers\n",
    "model = Sequential()\n",
    "model.add(Dense(12, input_dim=8, activation='relu'))\n",
    "model.add(Dense(8, activation='relu'))\n",
    "model.add(Dense(1, activation='sigmoid'))\n",
    "\n",
    "# compile model\n",
    "model.compile(loss='binary_crossentropy', optimizer='adam', metrics=['accuracy'])\n",
    "\n",
    "# define batch sizes\n",
    "size = len(X)\n",
    "\n",
    "# fit the model with different batch sizes\n",
    "model.fit(X, y, epochs=100, batch_size=size, verbose=0)\n",
    "\n",
    "# eval model\n",
    "print('Model accuracy for batch size = {}: '.format(size), model.evaluate(X, y)[1]*100)"
   ]
  },
  {
   "cell_type": "code",
   "execution_count": 15,
   "id": "4531bf36-3b54-43f4-b23d-7a756e56b16b",
   "metadata": {},
   "outputs": [],
   "source": [
    "# split into training and test sets\n",
    "X_train, X_test, y_train, y_test = train_test_split(X, y, test_size=0.25, random_state=42)"
   ]
  },
  {
   "cell_type": "code",
   "execution_count": 18,
   "id": "8f970a30-02b6-4384-99cd-d72bb77b07cd",
   "metadata": {},
   "outputs": [
    {
     "name": "stderr",
     "output_type": "stream",
     "text": [
      "/Users/jeffkang/opt/anaconda3/envs/train/lib/python3.8/site-packages/keras/optimizer_v2/gradient_descent.py:102: UserWarning: The `lr` argument is deprecated, use `learning_rate` instead.\n",
      "  super(SGD, self).__init__(name, **kwargs)\n"
     ]
    },
    {
     "name": "stdout",
     "output_type": "stream",
     "text": [
      "24/24 [==============================] - 0s 815us/step - loss: 0.6677 - accuracy: 0.6549\n",
      "Model accuracy for learning rate = 0.0001:  65.49479365348816\n"
     ]
    }
   ],
   "source": [
    "# define layers\n",
    "model = Sequential()\n",
    "model.add(Dense(12, input_dim=8, activation='relu'))\n",
    "model.add(Dense(8, activation='relu'))\n",
    "model.add(Dense(1, activation='sigmoid'))\n",
    "\n",
    "# compile model\n",
    "from tensorflow.keras.optimizers import SGD\n",
    "opt = SGD(lr=0.0001)\n",
    "model.compile(loss='binary_crossentropy', optimizer=opt, metrics=['accuracy'])\n",
    "\n",
    "# fit the model with validation data\n",
    "lr_low = model.fit(X_train, y_train, epochs=50, batch_size=10, verbose=0, validation_data=(X_test, y_test))\n",
    "\n",
    "# eval model\n",
    "print('Model accuracy for learning rate = 0.0001: ', model.evaluate(X, y)[1]*100)"
   ]
  },
  {
   "cell_type": "code",
   "execution_count": 19,
   "id": "acf3edc0-84b2-4238-8f76-2ef1bb071683",
   "metadata": {},
   "outputs": [
    {
     "name": "stdout",
     "output_type": "stream",
     "text": [
      "24/24 [==============================] - 0s 895us/step - loss: 0.6548 - accuracy: 0.6510\n",
      "Model accuracy for learning rate = 0.75:  65.10416865348816\n"
     ]
    }
   ],
   "source": [
    "# release global memory state\n",
    "tf.keras.backend.clear_session()\n",
    "\n",
    "# define the layers\n",
    "model = Sequential()\n",
    "model.add(Dense(12, input_dim=8, activation='relu'))\n",
    "model.add(Dense(8, activation='relu'))\n",
    "model.add(Dense(1, activation='sigmoid'))\n",
    "\n",
    "# compile model\n",
    "opt = SGD(lr=0.75)\n",
    "model.compile(loss='binary_crossentropy', optimizer=opt, metrics=['accuracy'])\n",
    "\n",
    "# fit model with diff batch sizes\n",
    "lr_high = model.fit(X_train, y_train, epochs=50, batch_size=10, verbose=0, validation_data=(X_test, y_test))\n",
    "\n",
    "# eval model\n",
    "print('Model accuracy for learning rate = 0.75: ', model.evaluate(X, y)[1]*100)"
   ]
  },
  {
   "cell_type": "code",
   "execution_count": 28,
   "id": "865463c1-8fa4-46cc-a979-9100e6aafdf1",
   "metadata": {},
   "outputs": [
    {
     "data": {
      "text/html": [
       "<div>\n",
       "<style scoped>\n",
       "    .dataframe tbody tr th:only-of-type {\n",
       "        vertical-align: middle;\n",
       "    }\n",
       "\n",
       "    .dataframe tbody tr th {\n",
       "        vertical-align: top;\n",
       "    }\n",
       "\n",
       "    .dataframe thead th {\n",
       "        text-align: right;\n",
       "    }\n",
       "</style>\n",
       "<table border=\"1\" class=\"dataframe\">\n",
       "  <thead>\n",
       "    <tr style=\"text-align: right;\">\n",
       "      <th></th>\n",
       "      <th>loss</th>\n",
       "      <th>accuracy</th>\n",
       "      <th>val_loss</th>\n",
       "      <th>val_accuracy</th>\n",
       "      <th>epoch</th>\n",
       "      <th>Learning Rate</th>\n",
       "    </tr>\n",
       "  </thead>\n",
       "  <tbody>\n",
       "    <tr>\n",
       "      <th>0</th>\n",
       "      <td>1.607792</td>\n",
       "      <td>0.630208</td>\n",
       "      <td>1.291034</td>\n",
       "      <td>0.645833</td>\n",
       "      <td>0</td>\n",
       "      <td>0.0001_</td>\n",
       "    </tr>\n",
       "    <tr>\n",
       "      <th>1</th>\n",
       "      <td>1.359418</td>\n",
       "      <td>0.637153</td>\n",
       "      <td>1.147244</td>\n",
       "      <td>0.640625</td>\n",
       "      <td>1</td>\n",
       "      <td>0.0001_</td>\n",
       "    </tr>\n",
       "    <tr>\n",
       "      <th>2</th>\n",
       "      <td>1.218602</td>\n",
       "      <td>0.649306</td>\n",
       "      <td>1.061133</td>\n",
       "      <td>0.630208</td>\n",
       "      <td>2</td>\n",
       "      <td>0.0001_</td>\n",
       "    </tr>\n",
       "    <tr>\n",
       "      <th>3</th>\n",
       "      <td>1.129411</td>\n",
       "      <td>0.659722</td>\n",
       "      <td>1.000633</td>\n",
       "      <td>0.635417</td>\n",
       "      <td>3</td>\n",
       "      <td>0.0001_</td>\n",
       "    </tr>\n",
       "    <tr>\n",
       "      <th>4</th>\n",
       "      <td>1.059200</td>\n",
       "      <td>0.664931</td>\n",
       "      <td>0.953584</td>\n",
       "      <td>0.666667</td>\n",
       "      <td>4</td>\n",
       "      <td>0.0001_</td>\n",
       "    </tr>\n",
       "  </tbody>\n",
       "</table>\n",
       "</div>"
      ],
      "text/plain": [
       "       loss  accuracy  val_loss  val_accuracy  epoch Learning Rate\n",
       "0  1.607792  0.630208  1.291034      0.645833      0       0.0001_\n",
       "1  1.359418  0.637153  1.147244      0.640625      1       0.0001_\n",
       "2  1.218602  0.649306  1.061133      0.630208      2       0.0001_\n",
       "3  1.129411  0.659722  1.000633      0.635417      3       0.0001_\n",
       "4  1.059200  0.664931  0.953584      0.666667      4       0.0001_"
      ]
     },
     "execution_count": 28,
     "metadata": {},
     "output_type": "execute_result"
    }
   ],
   "source": [
    "# create an empty list to append each df\n",
    "learn_rates = []\n",
    "\n",
    "# loop through the history of each model and create a df\n",
    "for model, result in zip([lr_low, lr_high], ['0.0001_', '0.75_']):\n",
    "    df = pd.DataFrame.from_dict(model.history)\n",
    "    df['epoch'] = df.index.values\n",
    "    df['Learning Rate'] = result\n",
    "    learn_rates.append(df)\n",
    "\n",
    "# combine all the df\n",
    "df = pd.concat(learn_rates)\n",
    "df['Learning Rate'] = df['Learning Rate'].astype('str')\n",
    "df.head()"
   ]
  },
  {
   "cell_type": "code",
   "execution_count": 40,
   "id": "54fe7313-e475-49fd-bad5-0195c883d8f4",
   "metadata": {},
   "outputs": [],
   "source": [
    "# create plot\n",
    "# fig, (ax1, ax2) = plt.subplots(1, 2, figsize=(12,6))\n",
    "# sns.lineplot(x='epoch', y='val_loss', hue='Learning Rate', data=df, ax=ax1)\n",
    "# sns.lineplot(x='epoch', y='val_accuracy', hue='Learning Rate', data=df, ax=ax2)"
   ]
  },
  {
   "cell_type": "code",
   "execution_count": null,
   "id": "267d3a23-7008-414d-bf04-da2677d4284a",
   "metadata": {},
   "outputs": [],
   "source": []
  }
 ],
 "metadata": {
  "kernelspec": {
   "display_name": "Python 3 (ipykernel)",
   "language": "python",
   "name": "python3"
  },
  "language_info": {
   "codemirror_mode": {
    "name": "ipython",
    "version": 3
   },
   "file_extension": ".py",
   "mimetype": "text/x-python",
   "name": "python",
   "nbconvert_exporter": "python",
   "pygments_lexer": "ipython3",
   "version": "3.8.12"
  }
 },
 "nbformat": 4,
 "nbformat_minor": 5
}
