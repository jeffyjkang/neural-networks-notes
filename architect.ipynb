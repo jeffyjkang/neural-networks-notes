{
 "cells": [
  {
   "cell_type": "code",
   "execution_count": 7,
   "id": "3337d3b8",
   "metadata": {},
   "outputs": [],
   "source": [
    "# !pip install matplotlib"
   ]
  },
  {
   "cell_type": "code",
   "execution_count": 8,
   "id": "f680fe90-bc07-4eda-b23d-00795ec486a9",
   "metadata": {},
   "outputs": [
    {
     "data": {
      "image/png": "[encoded data removed]",
      "text/plain": [
       "<Figure size 432x288 with 1 Axes>"
      ]
     },
     "metadata": {
      "needs_background": "light"
     },
     "output_type": "display_data"
    }
   ],
   "source": [
    "import numpy as np\n",
    "import matplotlib.pyplot as plt\n",
    "\n",
    "# Define the activation function\n",
    "unit_step = lambda x: 0 if x < 0 else 1\n",
    "\n",
    "# vectorize the function (use on an array)\n",
    "unit_step_v = np.vectorize(unit_step)\n",
    "\n",
    "# create arrays to plot\n",
    "x = np.arange(-5, 5, 0.1)\n",
    "y = unit_step_v(x)\n",
    "\n",
    "# plot\n",
    "plt.plot(x, y)\n",
    "plt.xlabel('input'); plt.ylabel('step function output');\n",
    "plt.show()"
   ]
  },
  {
   "cell_type": "code",
   "execution_count": 9,
   "id": "1fa5b1e5-a1ae-4e6e-9f07-3d3abebf9729",
   "metadata": {},
   "outputs": [],
   "source": [
    "# data ('OR' gate)\n",
    "# tuple format: ([x1, x2, bias], expected)\n",
    "training_data = [\n",
    "    (np.array([0,0,1]), 0),\n",
    "    (np.array([0,1,1]), 1),\n",
    "    (np.array([1,0,1]), 1),\n",
    "    (np.array([1,1,1]), 1)\n",
    "]"
   ]
  },
  {
   "cell_type": "code",
   "execution_count": 10,
   "id": "1468b6dc-081e-40eb-a923-7e1b4cff5f2b",
   "metadata": {},
   "outputs": [
    {
     "name": "stdout",
     "output_type": "stream",
     "text": [
      "[0 0]: -0.11873985380568097 -> 0\n",
      "[0 1]: 0.832027959427105 -> 1\n",
      "[1 0]: 0.0852695346862003 -> 1\n",
      "[1 1]: 1.0360373479189862 -> 1\n"
     ]
    }
   ],
   "source": [
    "from random import choice\n",
    "\n",
    "# weights (begin with random weights)\n",
    "w = np.random.rand(3)\n",
    "\n",
    "# errors (store for plotting)\n",
    "errors = []\n",
    "\n",
    "# learning rate (the size of 'jumps' when updating the weights)\n",
    "learn_rate = 0.2\n",
    "\n",
    "# number of iterations/weight updates\n",
    "n = 50\n",
    "\n",
    "# 'learning' loop\n",
    "for i in range(n):\n",
    "    # slect a random item from the training data\n",
    "    x, expected = choice(training_data)\n",
    "    # neuron calculation (dot product of weights and input)\n",
    "    result = np.dot(w, x)\n",
    "    # compare to the expected result\n",
    "    error = expected - unit_step(result)\n",
    "    errors.append(error)\n",
    "    # update the weights\n",
    "    w += learn_rate * error * x\n",
    "\n",
    "# tes the perceptron with the 'learned' weights\n",
    "for x, _ in training_data:\n",
    "    result = np.dot(x, w)\n",
    "    print('{}: {} -> {}'.format(x[:2], result, unit_step(result)))"
   ]
  },
  {
   "cell_type": "code",
   "execution_count": 22,
   "id": "d5937627-ac67-4a77-ac60-0abcca254c04",
   "metadata": {},
   "outputs": [
    {
     "data": {
      "image/png": "[encoded data removed]",
      "text/plain": [
       "<Figure size 432x288 with 1 Axes>"
      ]
     },
     "metadata": {
      "needs_background": "light"
     },
     "output_type": "display_data"
    }
   ],
   "source": [
    "# plot error as a function of iteration\n",
    "iteration = np.arange(0, n, 1)\n",
    "plt.plot(iteration, errors)\n",
    "plt.xlabel('iteration'); plt.ylabel('error');\n",
    "plt.show()"
   ]
  },
  {
   "cell_type": "code",
   "execution_count": 14,
   "id": "1aae8755",
   "metadata": {},
   "outputs": [],
   "source": [
    "# !pip install pandas"
   ]
  },
  {
   "cell_type": "code",
   "execution_count": 13,
   "id": "1baa092f-737f-4e70-89ed-8ea95efbd7f1",
   "metadata": {},
   "outputs": [
    {
     "data": {
      "text/html": [
       "<div>\n",
       "<style scoped>\n",
       "    .dataframe tbody tr th:only-of-type {\n",
       "        vertical-align: middle;\n",
       "    }\n",
       "\n",
       "    .dataframe tbody tr th {\n",
       "        vertical-align: top;\n",
       "    }\n",
       "\n",
       "    .dataframe thead th {\n",
       "        text-align: right;\n",
       "    }\n",
       "</style>\n",
       "<table border=\"1\" class=\"dataframe\">\n",
       "  <thead>\n",
       "    <tr style=\"text-align: right;\">\n",
       "      <th></th>\n",
       "      <th>x1</th>\n",
       "      <th>x2</th>\n",
       "      <th>y</th>\n",
       "    </tr>\n",
       "  </thead>\n",
       "  <tbody>\n",
       "    <tr>\n",
       "      <th>0</th>\n",
       "      <td>0</td>\n",
       "      <td>0</td>\n",
       "      <td>0</td>\n",
       "    </tr>\n",
       "    <tr>\n",
       "      <th>1</th>\n",
       "      <td>1</td>\n",
       "      <td>0</td>\n",
       "      <td>1</td>\n",
       "    </tr>\n",
       "    <tr>\n",
       "      <th>2</th>\n",
       "      <td>0</td>\n",
       "      <td>1</td>\n",
       "      <td>1</td>\n",
       "    </tr>\n",
       "    <tr>\n",
       "      <th>3</th>\n",
       "      <td>1</td>\n",
       "      <td>1</td>\n",
       "      <td>1</td>\n",
       "    </tr>\n",
       "  </tbody>\n",
       "</table>\n",
       "</div>"
      ],
      "text/plain": [
       "   x1  x2  y\n",
       "0   0   0  0\n",
       "1   1   0  1\n",
       "2   0   1  1\n",
       "3   1   1  1"
      ]
     },
     "metadata": {},
     "output_type": "display_data"
    }
   ],
   "source": [
    "import pandas as pd\n",
    "\n",
    "# create the OR operator\n",
    "data = {\n",
    "    'x1': [0,1,0,1],\n",
    "    'x2': [0,0,1,1],\n",
    "    'y': [0,1,1,1]\n",
    "}\n",
    "\n",
    "df = pd.DataFrame.from_dict(data).astype('int')\n",
    "display(df.head())\n",
    "\n",
    "# separate feature and target\n",
    "X = df[['x1', 'x2']].values\n",
    "y = df['y'].values"
   ]
  },
  {
   "cell_type": "code",
   "execution_count": null,
   "id": "0c57f744",
   "metadata": {},
   "outputs": [],
   "source": [
    "# !pip install tensorflow"
   ]
  },
  {
   "cell_type": "code",
   "execution_count": 16,
   "id": "b8a6c4d3-bb33-47be-9b4c-f38d8100cb59",
   "metadata": {},
   "outputs": [
    {
     "name": "stdout",
     "output_type": "stream",
     "text": [
      "Epoch 1/10\n",
      "1/1 [==============================] - 0s 224ms/step - loss: 0.5846 - accuracy: 1.0000\n",
      "Epoch 2/10\n",
      "1/1 [==============================] - 0s 2ms/step - loss: 0.5840 - accuracy: 0.7500\n",
      "Epoch 3/10\n",
      "1/1 [==============================] - 0s 2ms/step - loss: 0.5834 - accuracy: 0.7500\n",
      "Epoch 4/10\n",
      "1/1 [==============================] - 0s 2ms/step - loss: 0.5828 - accuracy: 0.7500\n",
      "Epoch 5/10\n",
      "1/1 [==============================] - 0s 2ms/step - loss: 0.5822 - accuracy: 0.7500\n",
      "Epoch 6/10\n",
      "1/1 [==============================] - 0s 2ms/step - loss: 0.5816 - accuracy: 0.7500\n",
      "Epoch 7/10\n",
      "1/1 [==============================] - 0s 2ms/step - loss: 0.5810 - accuracy: 0.7500\n",
      "Epoch 8/10\n",
      "1/1 [==============================] - 0s 2ms/step - loss: 0.5804 - accuracy: 0.7500\n",
      "Epoch 9/10\n",
      "1/1 [==============================] - 0s 2ms/step - loss: 0.5798 - accuracy: 0.7500\n",
      "Epoch 10/10\n",
      "1/1 [==============================] - 0s 2ms/step - loss: 0.5792 - accuracy: 0.7500\n"
     ]
    }
   ],
   "source": [
    "# import keras classes\n",
    "from tensorflow.keras.models import Sequential\n",
    "from tensorflow.keras.layers import Dense\n",
    "\n",
    "# perceptron model\n",
    "model = Sequential()\n",
    "model.add(Dense(1,input_dim=2,activation='sigmoid'))\n",
    "model.compile(loss='binary_crossentropy',optimizer='adam',metrics=['accuracy'])\n",
    "model.fit(X,y,epochs=10);"
   ]
  },
  {
   "cell_type": "code",
   "execution_count": 17,
   "id": "138d4cf4-7574-4ec4-9221-d47cfd660ab8",
   "metadata": {},
   "outputs": [
    {
     "name": "stdout",
     "output_type": "stream",
     "text": [
      "1/1 [==============================] - 0s 90ms/step - loss: 0.5787 - accuracy: 0.7500\n",
      "Model accuracy:  75.0\n"
     ]
    }
   ],
   "source": [
    "# eval model\n",
    "print('Model accuracy: ', model.evaluate(X, y)[1]*100)"
   ]
  },
  {
   "cell_type": "code",
   "execution_count": 18,
   "id": "d83cc65b",
   "metadata": {},
   "outputs": [],
   "source": [
    "# set the url for the data location\n",
    "url = 'https://raw.githubusercontent.com/jbrownlee/Datasets/master/pima-indians-diabetes.data.csv'"
   ]
  },
  {
   "cell_type": "code",
   "execution_count": 21,
   "id": "dbcd4d26",
   "metadata": {},
   "outputs": [],
   "source": [
    "# load the dataset\n",
    "dataset = np.loadtxt(url, delimiter=',')\n",
    "\n",
    "# split into input (X) and output (y) variables, (8 input col, 1 target col)\n",
    "X = dataset[:,0:8]\n",
    "y = dataset[:,8]"
   ]
  },
  {
   "cell_type": "code",
   "execution_count": 22,
   "id": "94a79f10",
   "metadata": {},
   "outputs": [],
   "source": [
    "# define the keras model\n",
    "model = Sequential()\n",
    "model.add(Dense(12, input_dim=8, activation='relu'))\n",
    "model.add(Dense(8, activation='relu'))\n",
    "model.add(Dense(1, activation='sigmoid'))"
   ]
  },
  {
   "cell_type": "code",
   "execution_count": 24,
   "id": "683d4cec",
   "metadata": {},
   "outputs": [
    {
     "name": "stdout",
     "output_type": "stream",
     "text": [
      "Epoch 1/100\n",
      "77/77 [==============================] - 0s 639us/step - loss: 6.6847 - accuracy: 0.5938\n",
      "Epoch 2/100\n",
      "77/77 [==============================] - 0s 623us/step - loss: 1.6492 - accuracy: 0.6133\n",
      "Epoch 3/100\n",
      "77/77 [==============================] - 0s 633us/step - loss: 1.2037 - accuracy: 0.6406\n",
      "Epoch 4/100\n",
      "77/77 [==============================] - 0s 651us/step - loss: 0.9945 - accuracy: 0.6328\n",
      "Epoch 5/100\n",
      "77/77 [==============================] - 0s 642us/step - loss: 0.8933 - accuracy: 0.6081\n",
      "Epoch 6/100\n",
      "77/77 [==============================] - 0s 645us/step - loss: 0.7738 - accuracy: 0.6393\n",
      "Epoch 7/100\n",
      "77/77 [==============================] - 0s 644us/step - loss: 0.7134 - accuracy: 0.6458\n",
      "Epoch 8/100\n",
      "77/77 [==============================] - 0s 637us/step - loss: 0.6932 - accuracy: 0.6341\n",
      "Epoch 9/100\n",
      "77/77 [==============================] - 0s 647us/step - loss: 0.6952 - accuracy: 0.6667\n",
      "Epoch 10/100\n",
      "77/77 [==============================] - 0s 694us/step - loss: 0.6777 - accuracy: 0.6484\n",
      "Epoch 11/100\n",
      "77/77 [==============================] - 0s 623us/step - loss: 0.7352 - accuracy: 0.6536\n",
      "Epoch 12/100\n",
      "77/77 [==============================] - 0s 645us/step - loss: 0.6623 - accuracy: 0.6654\n",
      "Epoch 13/100\n",
      "77/77 [==============================] - 0s 645us/step - loss: 0.7111 - accuracy: 0.6367\n",
      "Epoch 14/100\n",
      "77/77 [==============================] - 0s 644us/step - loss: 0.6549 - accuracy: 0.6758\n",
      "Epoch 15/100\n",
      "77/77 [==============================] - 0s 641us/step - loss: 0.6313 - accuracy: 0.6862\n",
      "Epoch 16/100\n",
      "77/77 [==============================] - 0s 627us/step - loss: 0.6319 - accuracy: 0.6810\n",
      "Epoch 17/100\n",
      "77/77 [==============================] - 0s 659us/step - loss: 0.6235 - accuracy: 0.6797\n",
      "Epoch 18/100\n",
      "77/77 [==============================] - 0s 635us/step - loss: 0.6045 - accuracy: 0.6836\n",
      "Epoch 19/100\n",
      "77/77 [==============================] - 0s 632us/step - loss: 0.6326 - accuracy: 0.6979\n",
      "Epoch 20/100\n",
      "77/77 [==============================] - 0s 651us/step - loss: 0.5978 - accuracy: 0.6888\n",
      "Epoch 21/100\n",
      "77/77 [==============================] - 0s 645us/step - loss: 0.6136 - accuracy: 0.7044\n",
      "Epoch 22/100\n",
      "77/77 [==============================] - 0s 638us/step - loss: 0.5994 - accuracy: 0.6641\n",
      "Epoch 23/100\n",
      "77/77 [==============================] - 0s 639us/step - loss: 0.6128 - accuracy: 0.6758\n",
      "Epoch 24/100\n",
      "77/77 [==============================] - 0s 646us/step - loss: 0.6113 - accuracy: 0.6927\n",
      "Epoch 25/100\n",
      "77/77 [==============================] - 0s 645us/step - loss: 0.6385 - accuracy: 0.6771\n",
      "Epoch 26/100\n",
      "77/77 [==============================] - 0s 637us/step - loss: 0.6539 - accuracy: 0.6393\n",
      "Epoch 27/100\n",
      "77/77 [==============================] - 0s 633us/step - loss: 0.5796 - accuracy: 0.7266\n",
      "Epoch 28/100\n",
      "77/77 [==============================] - 0s 648us/step - loss: 0.5857 - accuracy: 0.6953\n",
      "Epoch 29/100\n",
      "77/77 [==============================] - 0s 645us/step - loss: 0.5782 - accuracy: 0.7005\n",
      "Epoch 30/100\n",
      "77/77 [==============================] - 0s 687us/step - loss: 0.5692 - accuracy: 0.7083\n",
      "Epoch 31/100\n",
      "77/77 [==============================] - 0s 635us/step - loss: 0.6091 - accuracy: 0.6823\n",
      "Epoch 32/100\n",
      "77/77 [==============================] - 0s 607us/step - loss: 0.5893 - accuracy: 0.7135\n",
      "Epoch 33/100\n",
      "77/77 [==============================] - 0s 636us/step - loss: 0.6077 - accuracy: 0.6862\n",
      "Epoch 34/100\n",
      "77/77 [==============================] - 0s 648us/step - loss: 0.6028 - accuracy: 0.6940\n",
      "Epoch 35/100\n",
      "77/77 [==============================] - 0s 652us/step - loss: 0.5806 - accuracy: 0.6849\n",
      "Epoch 36/100\n",
      "77/77 [==============================] - 0s 629us/step - loss: 0.5865 - accuracy: 0.6940\n",
      "Epoch 37/100\n",
      "77/77 [==============================] - 0s 640us/step - loss: 0.5589 - accuracy: 0.7253\n",
      "Epoch 38/100\n",
      "77/77 [==============================] - 0s 640us/step - loss: 0.5778 - accuracy: 0.7109\n",
      "Epoch 39/100\n",
      "77/77 [==============================] - 0s 670us/step - loss: 0.5714 - accuracy: 0.6966\n",
      "Epoch 40/100\n",
      "77/77 [==============================] - 0s 646us/step - loss: 0.5581 - accuracy: 0.7201\n",
      "Epoch 41/100\n",
      "77/77 [==============================] - 0s 630us/step - loss: 0.5558 - accuracy: 0.7227\n",
      "Epoch 42/100\n",
      "77/77 [==============================] - 0s 634us/step - loss: 0.5822 - accuracy: 0.6940\n",
      "Epoch 43/100\n",
      "77/77 [==============================] - 0s 655us/step - loss: 0.5834 - accuracy: 0.7279\n",
      "Epoch 44/100\n",
      "77/77 [==============================] - 0s 652us/step - loss: 0.5722 - accuracy: 0.7109\n",
      "Epoch 45/100\n",
      "77/77 [==============================] - 0s 635us/step - loss: 0.5518 - accuracy: 0.7148\n",
      "Epoch 46/100\n",
      "77/77 [==============================] - 0s 643us/step - loss: 0.5759 - accuracy: 0.7005\n",
      "Epoch 47/100\n",
      "77/77 [==============================] - 0s 628us/step - loss: 0.5623 - accuracy: 0.7161\n",
      "Epoch 48/100\n",
      "77/77 [==============================] - 0s 634us/step - loss: 0.5682 - accuracy: 0.7096\n",
      "Epoch 49/100\n",
      "77/77 [==============================] - 0s 630us/step - loss: 0.5582 - accuracy: 0.7370\n",
      "Epoch 50/100\n",
      "77/77 [==============================] - 0s 625us/step - loss: 0.5424 - accuracy: 0.7096\n",
      "Epoch 51/100\n",
      "77/77 [==============================] - 0s 631us/step - loss: 0.5452 - accuracy: 0.7253\n",
      "Epoch 52/100\n",
      "77/77 [==============================] - 0s 645us/step - loss: 0.5906 - accuracy: 0.7161\n",
      "Epoch 53/100\n",
      "77/77 [==============================] - 0s 698us/step - loss: 0.5429 - accuracy: 0.7266\n",
      "Epoch 54/100\n",
      "77/77 [==============================] - 0s 628us/step - loss: 0.5727 - accuracy: 0.7083\n",
      "Epoch 55/100\n",
      "77/77 [==============================] - 0s 602us/step - loss: 0.5729 - accuracy: 0.7344\n",
      "Epoch 56/100\n",
      "77/77 [==============================] - 0s 605us/step - loss: 0.5659 - accuracy: 0.7083\n",
      "Epoch 57/100\n",
      "77/77 [==============================] - 0s 637us/step - loss: 0.5774 - accuracy: 0.7174\n",
      "Epoch 58/100\n",
      "77/77 [==============================] - 0s 632us/step - loss: 0.5580 - accuracy: 0.7201\n",
      "Epoch 59/100\n",
      "77/77 [==============================] - 0s 628us/step - loss: 0.5695 - accuracy: 0.7083\n",
      "Epoch 60/100\n",
      "77/77 [==============================] - 0s 625us/step - loss: 0.5890 - accuracy: 0.7070\n",
      "Epoch 61/100\n",
      "77/77 [==============================] - 0s 606us/step - loss: 0.5695 - accuracy: 0.7122\n",
      "Epoch 62/100\n",
      "77/77 [==============================] - 0s 612us/step - loss: 0.5310 - accuracy: 0.7474\n",
      "Epoch 63/100\n",
      "77/77 [==============================] - 0s 613us/step - loss: 0.5376 - accuracy: 0.7240\n",
      "Epoch 64/100\n",
      "77/77 [==============================] - 0s 629us/step - loss: 0.5660 - accuracy: 0.7109\n",
      "Epoch 65/100\n",
      "77/77 [==============================] - 0s 614us/step - loss: 0.5545 - accuracy: 0.7188\n",
      "Epoch 66/100\n",
      "77/77 [==============================] - 0s 616us/step - loss: 0.5428 - accuracy: 0.7383\n",
      "Epoch 67/100\n",
      "77/77 [==============================] - 0s 611us/step - loss: 0.5531 - accuracy: 0.7253\n",
      "Epoch 68/100\n",
      "77/77 [==============================] - 0s 626us/step - loss: 0.5373 - accuracy: 0.7279\n",
      "Epoch 69/100\n",
      "77/77 [==============================] - 0s 670us/step - loss: 0.5690 - accuracy: 0.7318\n",
      "Epoch 70/100\n",
      "77/77 [==============================] - 0s 658us/step - loss: 0.5391 - accuracy: 0.7461\n",
      "Epoch 71/100\n",
      "77/77 [==============================] - 0s 635us/step - loss: 0.5367 - accuracy: 0.7240\n",
      "Epoch 72/100\n",
      "77/77 [==============================] - 0s 635us/step - loss: 0.5422 - accuracy: 0.7448\n",
      "Epoch 73/100\n",
      "77/77 [==============================] - 0s 624us/step - loss: 0.5243 - accuracy: 0.7383\n",
      "Epoch 74/100\n",
      "77/77 [==============================] - 0s 638us/step - loss: 0.5355 - accuracy: 0.7396\n",
      "Epoch 75/100\n",
      "77/77 [==============================] - 0s 639us/step - loss: 0.5240 - accuracy: 0.7409\n",
      "Epoch 76/100\n",
      "77/77 [==============================] - 0s 648us/step - loss: 0.5297 - accuracy: 0.7357\n",
      "Epoch 77/100\n",
      "77/77 [==============================] - 0s 660us/step - loss: 0.5248 - accuracy: 0.7435\n",
      "Epoch 78/100\n",
      "77/77 [==============================] - 0s 634us/step - loss: 0.5791 - accuracy: 0.7253\n",
      "Epoch 79/100\n",
      "77/77 [==============================] - 0s 652us/step - loss: 0.5268 - accuracy: 0.7383\n",
      "Epoch 80/100\n",
      "77/77 [==============================] - 0s 639us/step - loss: 0.5444 - accuracy: 0.7344\n",
      "Epoch 81/100\n"
     ]
    },
    {
     "name": "stdout",
     "output_type": "stream",
     "text": [
      "77/77 [==============================] - 0s 632us/step - loss: 0.5514 - accuracy: 0.7292\n",
      "Epoch 82/100\n",
      "77/77 [==============================] - 0s 642us/step - loss: 0.5531 - accuracy: 0.7083\n",
      "Epoch 83/100\n",
      "77/77 [==============================] - 0s 631us/step - loss: 0.5317 - accuracy: 0.7370\n",
      "Epoch 84/100\n",
      "77/77 [==============================] - 0s 652us/step - loss: 0.5287 - accuracy: 0.7370\n",
      "Epoch 85/100\n",
      "77/77 [==============================] - 0s 639us/step - loss: 0.5413 - accuracy: 0.7253\n",
      "Epoch 86/100\n",
      "77/77 [==============================] - 0s 636us/step - loss: 0.5291 - accuracy: 0.7409\n",
      "Epoch 87/100\n",
      "77/77 [==============================] - 0s 636us/step - loss: 0.5393 - accuracy: 0.7487\n",
      "Epoch 88/100\n",
      "77/77 [==============================] - 0s 630us/step - loss: 0.5409 - accuracy: 0.7383\n",
      "Epoch 89/100\n",
      "77/77 [==============================] - 0s 701us/step - loss: 0.5179 - accuracy: 0.7422\n",
      "Epoch 90/100\n",
      "77/77 [==============================] - 0s 638us/step - loss: 0.5183 - accuracy: 0.7643\n",
      "Epoch 91/100\n",
      "77/77 [==============================] - 0s 634us/step - loss: 0.5561 - accuracy: 0.7331\n",
      "Epoch 92/100\n",
      "77/77 [==============================] - 0s 628us/step - loss: 0.5258 - accuracy: 0.7396\n",
      "Epoch 93/100\n",
      "77/77 [==============================] - 0s 617us/step - loss: 0.5258 - accuracy: 0.7422\n",
      "Epoch 94/100\n",
      "77/77 [==============================] - 0s 632us/step - loss: 0.5234 - accuracy: 0.7409\n",
      "Epoch 95/100\n",
      "77/77 [==============================] - 0s 621us/step - loss: 0.5186 - accuracy: 0.7565\n",
      "Epoch 96/100\n",
      "77/77 [==============================] - 0s 641us/step - loss: 0.5205 - accuracy: 0.7422\n",
      "Epoch 97/100\n",
      "77/77 [==============================] - 0s 640us/step - loss: 0.5186 - accuracy: 0.7409\n",
      "Epoch 98/100\n",
      "77/77 [==============================] - 0s 652us/step - loss: 0.5230 - accuracy: 0.7487\n",
      "Epoch 99/100\n",
      "77/77 [==============================] - 0s 616us/step - loss: 0.5212 - accuracy: 0.7448\n",
      "Epoch 100/100\n",
      "77/77 [==============================] - 0s 652us/step - loss: 0.5348 - accuracy: 0.7383\n"
     ]
    },
    {
     "data": {
      "text/plain": [
       "<keras.callbacks.History at 0x7fad8370f9a0>"
      ]
     },
     "execution_count": 24,
     "metadata": {},
     "output_type": "execute_result"
    }
   ],
   "source": [
    "# compile keras model\n",
    "model.compile(loss='binary_crossentropy', optimizer='adam', metrics=['accuracy'])\n",
    "\n",
    "# fit the keras model on the dataset\n",
    "model.fit(X, y, epochs=100, batch_size=10)"
   ]
  },
  {
   "cell_type": "code",
   "execution_count": 25,
   "id": "8b28df64",
   "metadata": {},
   "outputs": [
    {
     "name": "stdout",
     "output_type": "stream",
     "text": [
      "24/24 [==============================] - 0s 685us/step - loss: 0.4833 - accuracy: 0.7578\n",
      "Model accuracy: 75.78125\n"
     ]
    }
   ],
   "source": [
    "# eval model\n",
    "print('Model accuracy:', model.evaluate(X, y)[1]*100)"
   ]
  },
  {
   "cell_type": "code",
   "execution_count": null,
   "id": "1be0d6a6",
   "metadata": {},
   "outputs": [],
   "source": []
  }
 ],
 "metadata": {
  "kernelspec": {
   "display_name": "Python 3 (ipykernel)",
   "language": "python",
   "name": "python3"
  },
  "language_info": {
   "codemirror_mode": {
    "name": "ipython",
    "version": 3
   },
   "file_extension": ".py",
   "mimetype": "text/x-python",
   "name": "python",
   "nbconvert_exporter": "python",
   "pygments_lexer": "ipython3",
   "version": "3.8.12"
  }
 },
 "nbformat": 4,
 "nbformat_minor": 5
}
